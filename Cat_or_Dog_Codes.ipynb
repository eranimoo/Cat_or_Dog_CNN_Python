{
 "cells": [
  {
   "cell_type": "code",
   "execution_count": 12,
   "metadata": {},
   "outputs": [],
   "source": [
    "import tensorflow as tf\n",
    "from tensorflow.keras.preprocessing.image import ImageDataGenerator"
   ]
  },
  {
   "cell_type": "code",
   "execution_count": 13,
   "metadata": {},
   "outputs": [
    {
     "name": "stdout",
     "output_type": "stream",
     "text": [
      "Found 8000 images belonging to 2 classes.\n"
     ]
    }
   ],
   "source": [
    "#Train setine preprocessing yapıyoruz ve setini preprocessing ile birleştiriyoruz\n",
    "\n",
    "train_datagen = ImageDataGenerator(rescale = 1./255,\n",
    "                                   shear_range = 0.2,\n",
    "                                   zoom_range = 0.2,\n",
    "                                   horizontal_flip = True)\n",
    "training_set = train_datagen.flow_from_directory(r'C:\\\\Users\\\\Lenovo\\\\Desktop\\\\Data_Mining\\\\training_set',\n",
    "                                                 target_size = (64, 64),\n",
    "                                                 batch_size = 32,\n",
    "                                                 class_mode = 'binary')"
   ]
  },
  {
   "cell_type": "code",
   "execution_count": 14,
   "metadata": {},
   "outputs": [
    {
     "name": "stdout",
     "output_type": "stream",
     "text": [
      "Found 2000 images belonging to 2 classes.\n"
     ]
    }
   ],
   "source": [
    "#Test setine preprocessing yapıyoruz ve setini preprocessing ile birleştiriyoruz\n",
    "\n",
    "test_datagen = ImageDataGenerator(rescale = 1./255)\n",
    "test_set = test_datagen.flow_from_directory(r'C:\\\\Users\\\\Lenovo\\\\Desktop\\\\Data_Mining\\\\test_set',\n",
    "                                            target_size = (64, 64),\n",
    "                                            batch_size = 32,\n",
    "                                            class_mode = 'binary')"
   ]
  },
  {
   "cell_type": "code",
   "execution_count": 15,
   "metadata": {},
   "outputs": [],
   "source": [
    "#Cnn oluşturuyoruz sequential model ile.\n",
    "\n",
    "cnn=tf.keras.models.Sequential()"
   ]
  },
  {
   "cell_type": "code",
   "execution_count": 16,
   "metadata": {},
   "outputs": [],
   "source": [
    "#First Layer\n",
    "\n",
    "cnn.add(tf.keras.layers.Conv2D(filters=32,\n",
    "                              kernel_size=3,\n",
    "                              activation=\"relu\",\n",
    "                              input_shape=[64,64,3]))"
   ]
  },
  {
   "cell_type": "code",
   "execution_count": 17,
   "metadata": {},
   "outputs": [],
   "source": [
    "#Pooling\n",
    "\n",
    "cnn.add(tf.keras.layers.MaxPool2D(pool_size=2,\n",
    "                                 strides=2))"
   ]
  },
  {
   "cell_type": "code",
   "execution_count": 18,
   "metadata": {},
   "outputs": [],
   "source": [
    "#Second Layer ve Pooling\n",
    "\n",
    "cnn.add(tf.keras.layers.Conv2D(filters=32,\n",
    "                              kernel_size=3,\n",
    "                              activation=\"relu\"))\n",
    "\n",
    "cnn.add(tf.keras.layers.MaxPool2D(pool_size=2,\n",
    "                                 strides=2))"
   ]
  },
  {
   "cell_type": "code",
   "execution_count": 19,
   "metadata": {},
   "outputs": [],
   "source": [
    "#Flat all the results of cnn and pooling\n",
    "\n",
    "cnn.add(tf.keras.layers.Flatten())"
   ]
  },
  {
   "cell_type": "code",
   "execution_count": 20,
   "metadata": {},
   "outputs": [],
   "source": [
    "#Ann first layer\n",
    "\n",
    "cnn.add(tf.keras.layers.Dense(units=128, activation=\"relu\"))"
   ]
  },
  {
   "cell_type": "code",
   "execution_count": 21,
   "metadata": {},
   "outputs": [],
   "source": [
    "#Ann output layer\n",
    "\n",
    "cnn.add(tf.keras.layers.Dense(units=1, activation=\"sigmoid\"))"
   ]
  },
  {
   "cell_type": "code",
   "execution_count": 22,
   "metadata": {},
   "outputs": [],
   "source": [
    "#Compile everything\n",
    "\n",
    "cnn.compile(optimizer=\"adam\", loss=\"binary_crossentropy\", metrics=[\"accuracy\"])"
   ]
  },
  {
   "cell_type": "code",
   "execution_count": 24,
   "metadata": {},
   "outputs": [
    {
     "name": "stdout",
     "output_type": "stream",
     "text": [
      "WARNING:tensorflow:sample_weight modes were coerced from\n",
      "  ...\n",
      "    to  \n",
      "  ['...']\n",
      "WARNING:tensorflow:sample_weight modes were coerced from\n",
      "  ...\n",
      "    to  \n",
      "  ['...']\n",
      "Train for 250 steps, validate for 63 steps\n",
      "Epoch 1/25\n",
      "250/250 [==============================] - 199s 794ms/step - loss: 0.6680 - accuracy: 0.5895 - val_loss: 0.6223 - val_accuracy: 0.6585\n",
      "Epoch 2/25\n",
      "250/250 [==============================] - 188s 751ms/step - loss: 0.6122 - accuracy: 0.6685 - val_loss: 0.5686 - val_accuracy: 0.7180\n",
      "Epoch 3/25\n",
      "250/250 [==============================] - 186s 744ms/step - loss: 0.5708 - accuracy: 0.7056 - val_loss: 0.5282 - val_accuracy: 0.7335\n",
      "Epoch 4/25\n",
      "250/250 [==============================] - 208s 833ms/step - loss: 0.5323 - accuracy: 0.7337 - val_loss: 0.6181 - val_accuracy: 0.6710\n",
      "Epoch 5/25\n",
      "250/250 [==============================] - 281s 1s/step - loss: 0.5078 - accuracy: 0.7446 - val_loss: 0.5193 - val_accuracy: 0.7475\n",
      "Epoch 6/25\n",
      "250/250 [==============================] - 261s 1s/step - loss: 0.4872 - accuracy: 0.7638 - val_loss: 0.4699 - val_accuracy: 0.7705\n",
      "Epoch 7/25\n",
      "250/250 [==============================] - 278s 1s/step - loss: 0.4636 - accuracy: 0.7810 - val_loss: 0.4615 - val_accuracy: 0.7800\n",
      "Epoch 8/25\n",
      "250/250 [==============================] - 331s 1s/step - loss: 0.4434 - accuracy: 0.7869 - val_loss: 0.4965 - val_accuracy: 0.7650\n",
      "Epoch 9/25\n",
      "250/250 [==============================] - 214s 858ms/step - loss: 0.4333 - accuracy: 0.7979 - val_loss: 0.5291 - val_accuracy: 0.7630\n",
      "Epoch 10/25\n",
      "250/250 [==============================] - 187s 750ms/step - loss: 0.4289 - accuracy: 0.7981 - val_loss: 0.4420 - val_accuracy: 0.7985\n",
      "Epoch 11/25\n",
      "250/250 [==============================] - 183s 734ms/step - loss: 0.4119 - accuracy: 0.8080 - val_loss: 0.4441 - val_accuracy: 0.7980\n",
      "Epoch 12/25\n",
      "250/250 [==============================] - 191s 762ms/step - loss: 0.3841 - accuracy: 0.8235 - val_loss: 0.4394 - val_accuracy: 0.8075\n",
      "Epoch 13/25\n",
      "250/250 [==============================] - 184s 737ms/step - loss: 0.3686 - accuracy: 0.8315 - val_loss: 0.4664 - val_accuracy: 0.7975\n",
      "Epoch 14/25\n",
      "250/250 [==============================] - 187s 750ms/step - loss: 0.3623 - accuracy: 0.8350 - val_loss: 0.4554 - val_accuracy: 0.7990\n",
      "Epoch 15/25\n",
      "250/250 [==============================] - 184s 734ms/step - loss: 0.3496 - accuracy: 0.8425 - val_loss: 0.4529 - val_accuracy: 0.8030\n",
      "Epoch 16/25\n",
      "250/250 [==============================] - 186s 746ms/step - loss: 0.3321 - accuracy: 0.8491 - val_loss: 0.4513 - val_accuracy: 0.7980\n",
      "Epoch 17/25\n",
      "250/250 [==============================] - 184s 737ms/step - loss: 0.3250 - accuracy: 0.8574 - val_loss: 0.4485 - val_accuracy: 0.8085\n",
      "Epoch 18/25\n",
      "250/250 [==============================] - 189s 756ms/step - loss: 0.3084 - accuracy: 0.8630 - val_loss: 0.4837 - val_accuracy: 0.8035\n",
      "Epoch 19/25\n",
      "250/250 [==============================] - 198s 791ms/step - loss: 0.2932 - accuracy: 0.8745 - val_loss: 0.4800 - val_accuracy: 0.8130\n",
      "Epoch 20/25\n",
      "250/250 [==============================] - 198s 792ms/step - loss: 0.2862 - accuracy: 0.8719 - val_loss: 0.4657 - val_accuracy: 0.8140\n",
      "Epoch 21/25\n",
      "250/250 [==============================] - 198s 792ms/step - loss: 0.2710 - accuracy: 0.8805 - val_loss: 0.5041 - val_accuracy: 0.7995\n",
      "Epoch 22/25\n",
      "250/250 [==============================] - 193s 772ms/step - loss: 0.2636 - accuracy: 0.8876 - val_loss: 0.5059 - val_accuracy: 0.8075\n",
      "Epoch 23/25\n",
      "250/250 [==============================] - 299s 1s/step - loss: 0.2425 - accuracy: 0.8986 - val_loss: 0.5294 - val_accuracy: 0.7975\n",
      "Epoch 24/25\n",
      "250/250 [==============================] - 288s 1s/step - loss: 0.2453 - accuracy: 0.8980 - val_loss: 0.5312 - val_accuracy: 0.7945\n",
      "Epoch 25/25\n",
      "250/250 [==============================] - 291s 1s/step - loss: 0.2300 - accuracy: 0.9045 - val_loss: 0.5310 - val_accuracy: 0.7945\n"
     ]
    },
    {
     "data": {
      "text/plain": [
       "<tensorflow.python.keras.callbacks.History at 0x229dc944278>"
      ]
     },
     "execution_count": 24,
     "metadata": {},
     "output_type": "execute_result"
    }
   ],
   "source": [
    "cnn.fit(x=training_set, validation_data=test_set, epochs=25)"
   ]
  },
  {
   "cell_type": "code",
   "execution_count": 34,
   "metadata": {},
   "outputs": [
    {
     "name": "stdout",
     "output_type": "stream",
     "text": [
      "{'cats': 0, 'dogs': 1}\n",
      "It is a dog\n",
      "It is a dog\n",
      "It is a dog\n"
     ]
    }
   ],
   "source": [
    "#Prediction if it is a cat or dog\n",
    "\n",
    "import numpy as np\n",
    "from tensorflow.keras.preprocessing import image\n",
    "print(training_set.class_indices)\n",
    "for i in range(1, 4):\n",
    "    test_image=image.load_img(\"C:\\\\Users\\\\Lenovo\\\\Desktop\\\\Yeni klasör\\\\\"+str(i)+\".jpg\", target_size= (64,64))\n",
    "    test_image=image.img_to_array(test_image)\n",
    "    test_image=np.expand_dims(test_image, axis=0)\n",
    "    result=cnn.predict(test_image)\n",
    "\n",
    "\n",
    "    if result[0][0]==0:\n",
    "        print(\"It is a cat\")\n",
    "    else:\n",
    "        print(\"It is a dog\")\n",
    "\n",
    "\n"
   ]
  },
  {
   "cell_type": "code",
   "execution_count": null,
   "metadata": {},
   "outputs": [],
   "source": []
  }
 ],
 "metadata": {
  "kernelspec": {
   "display_name": "Python 3",
   "language": "python",
   "name": "python3"
  },
  "language_info": {
   "codemirror_mode": {
    "name": "ipython",
    "version": 3
   },
   "file_extension": ".py",
   "mimetype": "text/x-python",
   "name": "python",
   "nbconvert_exporter": "python",
   "pygments_lexer": "ipython3",
   "version": "3.6.10"
  }
 },
 "nbformat": 4,
 "nbformat_minor": 4
}
